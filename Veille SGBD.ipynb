{
 "cells": [
  {
   "cell_type": "markdown",
   "id": "cathedral-utilization",
   "metadata": {},
   "source": [
    "# Veille SGBD"
   ]
  },
  {
   "cell_type": "markdown",
   "id": "greater-watershed",
   "metadata": {},
   "source": [
    "## Système de gestion de base de données"
   ]
  },
  {
   "cell_type": "markdown",
   "id": "guilty-whale",
   "metadata": {},
   "source": [
    "Un système de gestion de base de données (SGBD) est le logiciel qui permet à un ordinateur de stocker, récupérer, ajouter, supprimer et modifier des données. Un SGBD gère tous les aspects primaires d'une base de données, y compris la gestion de la manipulation des données, comme l'authentification des utilisateurs, ainsi que l'insertion ou l'extraction des données.\n",
    "en garantissant la qualité, la pérennité et la confidentialité des informations, tout en cachant la complexité des opérations. [1]\n",
    "\n",
    "Un SGBD définit ce qu'on appelle le schéma de données ou la structure dans laquelle les données sont stockées.\n",
    "\n",
    "Les outils que nous utilisons tous au quotidien nécessitent des SGBD en coulisse. Cela comprend les guichets automatiques bancaires, les systèmes de réservation de vols, les systèmes d'inventaire au détail et les catalogues de bibliothèques, par exemple. [2]"
   ]
  },
  {
   "cell_type": "markdown",
   "id": "fallen-slovakia",
   "metadata": {},
   "source": [
    "- **Qu'est-ce qu'une base de données relationnelle ?**\n",
    "\n",
    "    Une base de données relationnelle est une base de données qui forme des relations entre des tables qui stockent des données sur des entités spécifiques. Une base de données relationnelle utilise SQL, langage de requête structuré."
   ]
  },
  {
   "cell_type": "markdown",
   "id": "scientific-charger",
   "metadata": {},
   "source": [
    "<img src=\"imgs/whats-a-relational-database.jpg\" alt=\"Drawing\" style=\"width: 600px;\"/>"
   ]
  },
  {
   "cell_type": "markdown",
   "id": "pressing-azerbaijan",
   "metadata": {},
   "source": [
    "- **Qu'est-ce qu'une base de données non relationnelle ?**\n",
    "\n",
    "    Les bases de données NoSQL sont plus flexibles car les données sur l'objet ne sont pas limitées à la même table. Les bases de données non relationnelles utilisent des colonnes et des lignes pour saisir des types de données et leurs valeurs et identifier les objets avec des clés. [6]"
   ]
  },
  {
   "cell_type": "markdown",
   "id": "whole-rainbow",
   "metadata": {},
   "source": [
    "<img src=\"imgs/whats-a-nonrelational-database.jpg\" alt=\"Drawing\" style=\"width: 600px;\"/>"
   ]
  },
  {
   "cell_type": "markdown",
   "id": "applicable-china",
   "metadata": {},
   "source": [
    "### Forces des SGBD relationnels"
   ]
  },
  {
   "cell_type": "markdown",
   "id": "present-expense",
   "metadata": {},
   "source": [
    "* Modèle simple\n",
    "\n",
    "* Précision des données\n",
    "\n",
    "* Accès facile aux données\n",
    "\n",
    "* Intégrité des données\n",
    "\n",
    "* Flexibilité\n",
    "\n",
    "* Normalisation\n",
    "\n",
    "* Sécurité\n",
    "\n",
    "* Les bases de données relationnelles sont faciles à modifier [6]"
   ]
  },
  {
   "cell_type": "markdown",
   "id": "warming-genealogy",
   "metadata": {},
   "source": [
    "Les bases de données relationnelles permettent d’avoir des données claires et claires. Des problèmes surviennent lorsque toutes les données de l’exemple précédent ne sont contenues que dans une seule table, contrairement à une base de données relationnelle. Étant donné que chaque élève a plusieurs années d’études, leurs coordonnées seraient entrées plusieurs fois en même temps que chaque année d’études. Cela n’est pas nécessaire et peut créer de la confusion lors de la recherche dans la base de données. En les séparant, comme dans une base de données relationnelle, les informations de contact n’ont besoin d’être saisies qu’une seule fois. [7]"
   ]
  },
  {
   "cell_type": "markdown",
   "id": "turkish-philip",
   "metadata": {},
   "source": [
    "### Faiblesses des SGBD relationnels"
   ]
  },
  {
   "cell_type": "markdown",
   "id": "flush-crazy",
   "metadata": {},
   "source": [
    "* Les problèmes de performance\n",
    "* Pas de prise en charge des types de données complexes\n",
    "* La configuration prend beaucoup de temps au cours des étapes initiales. [6]"
   ]
  },
  {
   "cell_type": "markdown",
   "id": "liked-indonesian",
   "metadata": {},
   "source": [
    "Le principal problème lors de l’utilisation d’une base de données relationnelle est la complexité qui apparaît lors de sa création. Il est absolument vital que les relations définies entre les tables soient correctes et que chaque ensemble d’informations soit lié à sa paire. Bien qu’il y ait moins d’informations à saisir au total qu’avec d’autres bases de données, s’assurer que chaque point est correctement configuré est un processus lent. De plus, les relations peuvent devenir extrêmement complexes lorsqu’une base de données relationnelle contient plus de deux tables. [7]"
   ]
  },
  {
   "cell_type": "markdown",
   "id": "entertaining-weather",
   "metadata": {},
   "source": [
    "### Propriétés ACID [9]"
   ]
  },
  {
   "cell_type": "markdown",
   "id": "imported-friendly",
   "metadata": {},
   "source": [
    "Les propriétés ACID sont quatre propriétés essentielles d'un sous-système de traitement de transactions d'un système de gestion de base de données. Le mot **ACID** est un acronyme référant aux propriétés suivantes :\n",
    "\n",
    "- **Atomicité** : une transaction doit soit être complètement validée ou complètement annulée.\n",
    "- **Cohérence** : aucune transaction ne peut sortir de la base de données dans un état incohérent.\n",
    "- **Isolation** : une transaction ne peut voir aucune autre transaction en cours d'exécution.\n",
    "- **Durabilité** : après que le client ait été informé du succès de la transaction, les résultats de celle-ci ne disparaîtront pas."
   ]
  },
  {
   "cell_type": "markdown",
   "id": "authentic-prophet",
   "metadata": {},
   "source": [
    "------------------------------------"
   ]
  },
  {
   "cell_type": "markdown",
   "id": "charitable-queens",
   "metadata": {},
   "source": [
    "## Les spécificités des systèmes NoSQL"
   ]
  },
  {
   "cell_type": "markdown",
   "id": "clear-comfort",
   "metadata": {},
   "source": []
  },
  {
   "cell_type": "markdown",
   "id": "planned-regular",
   "metadata": {},
   "source": [
    "-------------------------------"
   ]
  },
  {
   "cell_type": "markdown",
   "id": "entitled-trinity",
   "metadata": {},
   "source": [
    "## Les spécificités des systèmes NewSQL"
   ]
  },
  {
   "cell_type": "markdown",
   "id": "equal-shark",
   "metadata": {},
   "source": []
  },
  {
   "cell_type": "markdown",
   "id": "expected-catch",
   "metadata": {},
   "source": [
    "------------------------------------"
   ]
  },
  {
   "cell_type": "markdown",
   "id": "continent-nelson",
   "metadata": {},
   "source": [
    "## Commandes SQL [] []"
   ]
  },
  {
   "cell_type": "markdown",
   "id": "expanded-portal",
   "metadata": {},
   "source": [
    "### Tri des données\n",
    "\n",
    "*ORDER BY* : cette commande permet de trier les lignes dans un résultat d’une requête SQL. Il est possible de trier les données sur une ou plusieurs colonnes, par ordre ascendant ou descendant.\n",
    "\n",
    "#### Syntaxe\n",
    "\n",
    "``SELECT colonne1, colonne2, colonne3\n",
    "FROM table\n",
    "ORDER BY colonne1 DESC, colonne2 ASC``"
   ]
  },
  {
   "cell_type": "markdown",
   "id": "developed-alarm",
   "metadata": {},
   "source": [
    "."
   ]
  },
  {
   "cell_type": "markdown",
   "id": "starting-funds",
   "metadata": {},
   "source": [
    "### Renommage\n",
    "*AS* : permet de renommer le nom d'une colonne dans les résultats d'une requête SQL. C'est pratique pour avoir un nom facilement identifiable dans une application qui doit ensuite exploiter les résultats d'une recherche.\n",
    "\n",
    "#### Syntaxe\n",
    "``\n",
    "SELECT colonne1 AS c1, colonne2\n",
    "FROM `table` ``"
   ]
  },
  {
   "cell_type": "markdown",
   "id": "lesser-migration",
   "metadata": {},
   "source": [
    "."
   ]
  },
  {
   "cell_type": "markdown",
   "id": "medium-litigation",
   "metadata": {},
   "source": [
    "### Agrégation\n",
    "*GROUP BY* : Cette commande est utilisée en SQL pour grouper plusieurs résultats et utiliser une fonction de totaux sur un groupe de résultat. Sur une table qui contient toutes les ventes d’un magasin, il est par exemple possible de liste regrouper les ventes par clients identiques et d’obtenir le coût total des achats pour chaque client.\n",
    "\n",
    "#### Syntaxe\n",
    "``\n",
    "SELECT colonne1, fonction(colonne2)\n",
    "FROM table\n",
    "GROUP BY colonne1\n",
    "``"
   ]
  },
  {
   "cell_type": "markdown",
   "id": "removable-opening",
   "metadata": {},
   "source": [
    "."
   ]
  },
  {
   "cell_type": "markdown",
   "id": "stupid-apollo",
   "metadata": {},
   "source": [
    "### Jointures\n",
    "\n",
    "\n",
    "- **INNER JOIN** : jointure interne pour retourner les enregistrements quand la condition est vrai dans les 2 tables. C'est l'une des jointures les plus communes.\n",
    "\n",
    "![title](imgs/sql-ensemble-intersect-300.png)\n",
    "\n",
    "- **RIGHT JOIN** : jointure croisée permettant de faire le produit cartésien de 2 tables. En d'autres mots, permet de joindre chaque lignes d'une table avec chaque lignes d’une seconde table. Attention, le nombre de résultats est en général très élevé.\n",
    "\n",
    "![title](imgs/sql-right-join-300.png)\n",
    "\n",
    "![title](imgs/sql-right-join-exclude-300.png)\n",
    "\n",
    "- **LEFT JOIN** : jointure externe pour retourner tous les enregistrements de la table de gauche (LEFT = gauche) même si la condition n'est pas vérifié dans l'autre table.\n",
    "\n",
    "![title](imgs/sql-left-join-300.png)\n",
    "\n",
    "![title](imgs/sql-left-join-exclude-300.png)\n",
    "\n",
    "- **FULL JOIN** : jointure externe pour retourner tous les enregistrements de la table de droite (RIGHT = droite) même si la condition n'est pas vérifié dans l'autre table.\n",
    "\n",
    "![title](imgs/sql-ensemble-union-300.png)\n",
    "\n",
    "![title](imgs/sql-outer-join-exclude-300.png)\n",
    "\n",
    "- **SELF JOIN** : permet d’effectuer une jointure d’une table avec elle-même comme si c'était une autre table.\n",
    "\n",
    "\n",
    "- **NATURAL JOIN** : jointure naturelle entre 2 tables s'il y a au moins une colonne qui porte le même nom entre les 2 tables SQL.\n",
    "\n",
    "\n",
    "- **UNION JOIN** : jointure d'union."
   ]
  },
  {
   "cell_type": "markdown",
   "id": "annoying-starter",
   "metadata": {},
   "source": [
    "#### Syntaxe\n",
    "\n",
    "``SELECT *\n",
    "FROM A\n",
    "INNER JOIN B ON A.key = B.key``"
   ]
  },
  {
   "cell_type": "markdown",
   "id": "modular-dragon",
   "metadata": {},
   "source": [
    "."
   ]
  },
  {
   "cell_type": "markdown",
   "id": "primary-coffee",
   "metadata": {},
   "source": [
    "### Opérations\n",
    "\n",
    "Les opérations résultant des regroupements, c'est à dire très généralement toute expression de filtre devant introduire un calcul d'agrégation.\n",
    "\n",
    "Les opérateurs ensemblistes :\n",
    "\n",
    "- L'UNION\n",
    "\n",
    "    Commande **UNION** : permet de mettre bout-à-bout les résultats de plusieurs requêtes utilisant elles-même la commande SELECT. C'est donc une commande qui permet de concaténer les résultats de 2 requêtes ou plus.\n",
    "\n",
    "    **Syntaxe:**\n",
    "\n",
    "    ``\n",
    "    SELECT * FROM table1\n",
    "    UNION\n",
    "    SELECT * FROM table2\n",
    "    ``\n",
    "\n",
    "\n",
    "- L'INTERSECTION\n",
    "\n",
    "    Commande **INTERSECT** : permet d’obtenir l’intersection des résultats de 2 requêtes. Cette commande permet donc de récupérer les enregistrements communs à 2 requêtes. Cela peut s’avérer utile lorsqu’il faut trouver s’il y a des données similaires sur 2 tables distinctes.\n",
    "\n",
    "    **Syntaxe:**\n",
    "    \n",
    "    ``\n",
    "    SELECT * FROM `table1`\n",
    "    INTERSECT\n",
    "    SELECT * FROM `table2`\n",
    "    ``\n",
    "\n",
    "\n",
    "- LA DIFFÉRENCE\n",
    "\n",
    "    Commande **EXCEPT/MINUS** : s'utilise entre 2 instructions pour récupérer les enregistrements de la première instruction sans inclure les résultats de la seconde requête. \n",
    "\n",
    "    **Syntaxe:**\n",
    "\n",
    "    ``\n",
    "    SELECT * FROM table1\n",
    "    EXCEPT\n",
    "    SELECT * FROM table2\n",
    "    ``"
   ]
  },
  {
   "cell_type": "markdown",
   "id": "typical-worthy",
   "metadata": {},
   "source": [
    "------------------------------------"
   ]
  },
  {
   "cell_type": "markdown",
   "id": "fossil-kernel",
   "metadata": {},
   "source": [
    "## Merise"
   ]
  },
  {
   "cell_type": "markdown",
   "id": "handed-destination",
   "metadata": {},
   "source": [
    "Modèle conceptuel de données (MCD)\n",
    "\n",
    "Modèle logique de données (MLD)\n",
    "\n",
    "Modèle physique de données (MPD)"
   ]
  },
  {
   "cell_type": "markdown",
   "id": "ordered-refrigerator",
   "metadata": {},
   "source": []
  },
  {
   "cell_type": "markdown",
   "id": "creative-northeast",
   "metadata": {},
   "source": [
    "------------------------------------"
   ]
  },
  {
   "cell_type": "markdown",
   "id": "governmental-creation",
   "metadata": {},
   "source": [
    "# Bibliographie"
   ]
  },
  {
   "cell_type": "markdown",
   "id": "referenced-validity",
   "metadata": {},
   "source": [
    "* [1] : **Système de gestion de base de données** (https://fr.wikipedia.org/wiki/Syst%C3%A8me_de_gestion_de_base_de_donn%C3%A9es).\n",
    "* [2] : **L'essentiel à savoir un système de base de données** (https://www.oracle.com/fr/database/systeme-gestion-base-de-donnees-sgbd-definition.html).\n",
    "* [3] : **Base de données relationnelle** (https://fr.wikipedia.org/wiki/Base_de_donn%C3%A9es_relationnelle).\n",
    "* [4] : **Introduction aux SGBD relationnels** (https://cours.ebsi.umontreal.ca/sci6306/co/introduction_relationnel.html).\n",
    "* [5] : **Quel SGBD relationnel correspond le mieux à vos besoins ?** (https://www.lemagit.fr/conseil/Quel-SGBD-relationnel-correspond-le-mieux-a-votre-environnement).\n",
    "* [6] : **Differences Between Relational and Non-Relational Database** (https://jelvix.com/blog/relational-vs-non-relational-database).\n",
    "* [7] : **Base de données relationnelle : Avantages et désavantages** (http://www.lavise.fr/fiches/43945.html)\n",
    "* [8] : **ACID : les 4 propriétés des transactions de bases de données** (https://www.lebigdata.fr/acid-base-de-donnees-definition)\n",
    "* [9] : **Propriétés ACID - Définition et Explications** (https://www.techno-science.net/definition/333.html)\n",
    "https://pandorafms.com/blog/fr/bases-de-donnees-nosql/\n",
    "\n",
    "* [] : **Cours et tutoriels sur le langage SQL** (https://sql.sh/)\n",
    "* [] : **Tutorial SQL** (http://www.w3big.com/fr/sql/default.html)"
   ]
  }
 ],
 "metadata": {
  "kernelspec": {
   "display_name": "Python 3",
   "language": "python",
   "name": "python3"
  },
  "language_info": {
   "codemirror_mode": {
    "name": "ipython",
    "version": 3
   },
   "file_extension": ".py",
   "mimetype": "text/x-python",
   "name": "python",
   "nbconvert_exporter": "python",
   "pygments_lexer": "ipython3",
   "version": "3.8.5"
  }
 },
 "nbformat": 4,
 "nbformat_minor": 5
}
